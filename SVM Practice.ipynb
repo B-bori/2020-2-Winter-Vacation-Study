{
 "cells": [
  {
   "cell_type": "code",
   "execution_count": null,
   "metadata": {},
   "outputs": [],
   "source": [
    "# http://hleecaster.com/ml-svm-concept/"
   ]
  },
  {
   "cell_type": "code",
   "execution_count": null,
   "metadata": {},
   "outputs": [],
   "source": []
  },
  {
   "cell_type": "code",
   "execution_count": 13,
   "metadata": {},
   "outputs": [],
   "source": [
    "import warnings\n",
    "warnings.filterwarnings('ignore')"
   ]
  },
  {
   "cell_type": "code",
   "execution_count": null,
   "metadata": {},
   "outputs": [],
   "source": []
  },
  {
   "cell_type": "code",
   "execution_count": 1,
   "metadata": {},
   "outputs": [],
   "source": [
    "# SVC"
   ]
  },
  {
   "cell_type": "code",
   "execution_count": 108,
   "metadata": {},
   "outputs": [
    {
     "data": {
      "text/plain": [
       "(0.0, 7.0)"
      ]
     },
     "execution_count": 108,
     "metadata": {},
     "output_type": "execute_result"
    },
    {
     "data": {
      "image/png": "[encoded data removed]",
      "text/plain": [
       "<Figure size 432x288 with 1 Axes>"
      ]
     },
     "metadata": {
      "needs_background": "light"
     },
     "output_type": "display_data"
    }
   ],
   "source": [
    "from sklearn.svm import SVC\n",
    "import matplotlib.pyplot as plt\n",
    "import seaborn as sns\n",
    "import numpy as np\n",
    "\n",
    "classifier = SVC(kernel = 'linear')\n",
    "\n",
    "train = [[1,2], [1,5], [2,2], [7,5], [9,4], [8,2]]\n",
    "labels = [1,1,1,0,0,0]\n",
    "\n",
    "classifier.fit(train, labels)\n",
    "\n",
    "coefficients = classifier.coef_[0]\n",
    "intercept = classifier.intercept_\n",
    "\n",
    "sns.scatterplot([x[0] for x in train], [x[1] for x in train], hue=labels, palette=['blue', 'red'])\n",
    "\n",
    "plt.plot(np.arange(0,11), -(np.arange(0,11)*coefficients[0]+intercept)/coefficients[1])\n",
    "\n",
    "plt.xlim(0,10)\n",
    "plt.ylim(0,7)"
   ]
  },
  {
   "cell_type": "code",
   "execution_count": 112,
   "metadata": {},
   "outputs": [
    {
     "name": "stdout",
     "output_type": "stream",
     "text": [
      "[1]\n",
      "\n",
      "[[7. 5.]\n",
      " [8. 2.]\n",
      " [2. 2.]]\n"
     ]
    }
   ],
   "source": [
    "print(classifier.predict([[3,2]]))\n",
    "print()\n",
    "print(classifier.support_vectors_)"
   ]
  },
  {
   "cell_type": "code",
   "execution_count": null,
   "metadata": {},
   "outputs": [],
   "source": []
  }
 ],
 "metadata": {
  "kernelspec": {
   "display_name": "Python 3",
   "language": "python",
   "name": "python3"
  },
  "language_info": {
   "codemirror_mode": {
    "name": "ipython",
    "version": 3
   },
   "file_extension": ".py",
   "mimetype": "text/x-python",
   "name": "python",
   "nbconvert_exporter": "python",
   "pygments_lexer": "ipython3",
   "version": "3.8.5"
  }
 },
 "nbformat": 4,
 "nbformat_minor": 4
}
